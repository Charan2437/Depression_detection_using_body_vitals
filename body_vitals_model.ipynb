{
 "cells": [
  {
   "cell_type": "code",
   "execution_count": null,
   "metadata": {},
   "outputs": [],
   "source": [
    "import pandas as pd\n",
    "import numpy as np\n",
    "from sklearn.model_selection import train_test_split, GridSearchCV, RandomizedSearchCV, cross_val_score\n",
    "from sklearn.preprocessing import StandardScaler, PolynomialFeatures\n",
    "from sklearn.pipeline import Pipeline\n",
    "from sklearn.ensemble import RandomForestClassifier, VotingClassifier\n",
    "from xgboost import XGBClassifier\n",
    "from sklearn.metrics import accuracy_score, classification_report, confusion_matrix\n",
    "import matplotlib.pyplot as plt\n",
    "import seaborn as sns\n",
    "from imblearn.over_sampling import SMOTE\n",
    "from imblearn.pipeline import Pipeline as ImbPipeline"
   ]
  },
  {
   "cell_type": "code",
   "execution_count": null,
   "metadata": {},
   "outputs": [],
   "source": [
    "# Load and preprocess data\n",
    "data = pd.read_csv('depression_vitals_dataset.csv')\n",
    "\n",
    "# Feature engineering\n",
    "X = data.drop('target', axis=1)\n",
    "y = data['target']\n",
    "\n",
    "# Create more complex features using polynomial features\n",
    "poly = PolynomialFeatures(degree=2, include_bias=False)\n",
    "X_poly = poly.fit_transform(X)\n",
    "\n",
    "# Split the data\n",
    "X_train, X_test, y_train, y_test = train_test_split(X_poly, y, test_size=0.2, random_state=42)\n",
    "\n",
    "# Apply SMOTE for handling class imbalance\n",
    "smote = SMOTE(random_state=42)\n",
    "X_train_balanced, y_train_balanced = smote.fit_resample(X_train, y_train)"
   ]
  },
  {
   "cell_type": "code",
   "execution_count": null,
   "metadata": {},
   "outputs": [],
   "source": [
    "# Create a more sophisticated pipeline with XGBoost\n",
    "pipeline_xgb = Pipeline([\n",
    "    ('scaler', StandardScaler()),\n",
    "    ('clf', XGBClassifier(use_label_encoder=False, eval_metric='logloss'))\n",
    "])\n",
    "\n",
    "# Expanded hyperparameter grid\n",
    "param_grid_xgb = {\n",
    "    'clf__n_estimators': [100, 200, 300, 400],\n",
    "    'clf__max_depth': [3, 4, 5, 6, 7],\n",
    "    'clf__learning_rate': [0.01, 0.05, 0.1, 0.15],\n",
    "    'clf__subsample': [0.8, 0.9, 1.0],\n",
    "    'clf__colsample_bytree': [0.8, 0.9, 1.0],\n",
    "    'clf__min_child_weight': [1, 3, 5],\n",
    "    'clf__gamma': [0, 0.1, 0.2]\n",
    "}\n",
    "\n",
    "# Use RandomizedSearchCV with more iterations\n",
    "rand_search_xgb = RandomizedSearchCV(\n",
    "    pipeline_xgb,\n",
    "    param_grid_xgb,\n",
    "    cv=5,\n",
    "    scoring=['accuracy', 'f1', 'precision', 'recall'],\n",
    "    refit='f1',\n",
    "    n_iter=50,\n",
    "    n_jobs=-1,\n",
    "    random_state=42,\n",
    "    verbose=2\n",
    ")\n",
    "\n",
    "# Fit the model\n",
    "rand_search_xgb.fit(X_train_balanced, y_train_balanced)"
   ]
  },
  {
   "cell_type": "code",
   "execution_count": null,
   "metadata": {},
   "outputs": [],
   "source": [
    "# Print results\n",
    "print(\"Best parameters:\", rand_search_xgb.best_params_)\n",
    "print(\"Best cross-validation scores:\")\n",
    "for metric in ['accuracy', 'f1', 'precision', 'recall']:\n",
    "    print(f\"{metric}: {rand_search_xgb.cv_results_[f'mean_test_{metric}'][rand_search_xgb.best_index_]:.3f}\")\n",
    "\n",
    "# Evaluate on test set\n",
    "y_pred = rand_search_xgb.predict(X_test)\n",
    "print(\"\\nTest Set Performance:\")\n",
    "print(classification_report(y_test, y_pred))\n",
    "\n",
    "# Plot feature importance\n",
    "feature_importance = rand_search_xgb.best_estimator_.named_steps['clf'].feature_importances_\n",
    "feature_names = [f\"feature_{i}\" for i in range(len(feature_importance))]\n",
    "\n",
    "plt.figure(figsize=(12, 6))\n",
    "sns.barplot(x=feature_importance, y=feature_names)\n",
    "plt.title('Feature Importance')\n",
    "plt.xlabel('Importance')\n",
    "plt.tight_layout()\n",
    "plt.show()"
   ]
  }
 ],
 "metadata": {
  "kernelspec": {
   "display_name": "env",
   "language": "python",
   "name": "python3"
  },
  "language_info": {
   "name": "python",
   "version": "3.8.10"
  }
 },
 "nbformat": 4,
 "nbformat_minor": 2
}
